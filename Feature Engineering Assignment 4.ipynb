{
 "cells": [
  {
   "cell_type": "markdown",
   "id": "095bf19b-4e3c-484a-86a5-a5edcc1c97e5",
   "metadata": {},
   "source": [
    "Q1. What is the difference between Ordinal Encoding and Label Encoding? Provide an example of when you\n",
    "might choose one over the other."
   ]
  },
  {
   "cell_type": "markdown",
   "id": "f265a4c3-817f-407d-8d6f-2f6aaeb771fe",
   "metadata": {},
   "source": [
    "Ans:\n",
    "    \n",
    "Ordinal Encoding and Label Encoding are both techniques used to convert categorical data into numerical data, but they serve different purposes and are used in different scenarios.\n",
    "\n",
    "Ordinal Encoding\n",
    "\n",
    "Ordinal Encoding is used when the categorical data has an inherent order or ranking. In this encoding, the categories are converted into integers based on their order.\n",
    "\n",
    "Label Encoding\n",
    "\n",
    "Label Encoding is used when the categorical data does not have an inherent order. Each unique category is assigned a unique integer, but the integers do not have any specific order or ranking.\n",
    "\n",
    "Choosing Between Ordinal Encoding and Label Encoding\n",
    "\n",
    "Use Ordinal Encoding when:\n",
    "\n",
    "1. The categories have a meaningful order.\n",
    "\n",
    "2. The numerical relationship between the categories matters for the model."
   ]
  },
  {
   "cell_type": "code",
   "execution_count": null,
   "id": "ba7cf8b0-3535-4884-ba93-c7da44d5c225",
   "metadata": {},
   "outputs": [],
   "source": []
  },
  {
   "cell_type": "markdown",
   "id": "b9a3bcbf-9003-48a6-9a0e-8a09706f6b45",
   "metadata": {},
   "source": [
    "Q2. Explain how Target Guided Ordinal Encoding works and provide an example of when you might use it in\n",
    "a machine learning project."
   ]
  },
  {
   "cell_type": "markdown",
   "id": "cb2a72da-bd0b-4eb7-940a-c6875bcb933a",
   "metadata": {},
   "source": [
    "Ans:\n",
    "    \n",
    "Target Guided Ordinal Encoding is a technique used to convert categorical variables into numerical values based on the relationship between the categories and the target variable. This method is particularly useful when the categorical variables do not have an inherent order, but you want to leverage the information from the target variable to create a meaningful order.\n",
    "\n",
    "How Target Guided Ordinal Encoding Works\n",
    "\n",
    "Calculate the Mean Target Value for Each Category:\n",
    "\n",
    "For each category of the categorical variable, calculate the mean (or median) of the target variable. This step helps to understand the relationship between the categories and the target variable.\n",
    "\n",
    "1. Sort the Categories:\n",
    "Sort the categories based on the calculated mean target values.\n",
    "\n",
    "2. Assign Ordinal Values:\n",
    "Assign ordinal values (e.g., 1, 2, 3, etc.) to the categories based on the sorted order. The category with the lowest mean target value gets the smallest ordinal value, and so on."
   ]
  },
  {
   "cell_type": "code",
   "execution_count": null,
   "id": "6daa67a7-f668-469f-a45c-6174f7e31c38",
   "metadata": {},
   "outputs": [],
   "source": [
    "\n"
   ]
  },
  {
   "cell_type": "markdown",
   "id": "fc5da1ec-8283-4158-84c7-7158a5656a83",
   "metadata": {},
   "source": [
    "Q3. Define covariance and explain why it is important in statistical analysis. How is covariance calculated?"
   ]
  },
  {
   "cell_type": "markdown",
   "id": "c34e8f32-7e0f-4d5f-9731-e39d4343b997",
   "metadata": {},
   "source": [
    "Ans:\n",
    "    \n",
    "Covariance is a measure of the relationship between two random variables and indicates the extent to which they change together. Specifically, it measures the degree to which two variables move in tandem.\n",
    "\n",
    "Importance of Covariance in Statistical Analysis\n",
    "\n",
    "Understanding Relationships:\n",
    "\n",
    "Covariance helps in understanding the direction of the linear relationship between two variables. If the covariance is positive, it indicates that as one variable increases, the other variable also tends to increase. If the covariance is negative, it indicates that as one variable increases, the other tends to decrease.\n",
    "\n",
    "Feature Selection:\n",
    "\n",
    "In machine learning and data analysis, covariance can be used to identify which features have significant relationships with the target variable, helping in feature selection and dimensionality reduction.\n",
    "\n",
    "Portfolio Management:\n",
    "\n",
    "In finance, covariance is used to measure how the returns of two assets move together, which is crucial for portfolio diversification and risk management."
   ]
  },
  {
   "cell_type": "code",
   "execution_count": null,
   "id": "501e4f63-756a-40d5-847b-3aaaaa8c7b6f",
   "metadata": {},
   "outputs": [],
   "source": []
  },
  {
   "cell_type": "markdown",
   "id": "e9531c25-ee86-4839-bb6e-bfc246bd1af3",
   "metadata": {},
   "source": [
    "Q4. For a dataset with the following categorical variables: Color (red, green, blue), Size (small, medium,\n",
    "large), and Material (wood, metal, plastic), perform label encoding using Python's scikit-learn library.\n",
    "Show your code and explain the output."
   ]
  },
  {
   "cell_type": "code",
   "execution_count": 1,
   "id": "c3bfbb64-7706-4e3b-b331-9e46dbe74cd5",
   "metadata": {},
   "outputs": [
    {
     "name": "stdout",
     "output_type": "stream",
     "text": [
      "   Color    Size Material  Color_encoded  Size_encoded  Material_encoded\n",
      "0    red   small     wood              2             2                 2\n",
      "1  green  medium    metal              1             1                 0\n",
      "2   blue   large  plastic              0             0                 1\n",
      "3  green  medium    metal              1             1                 0\n",
      "4    red   small     wood              2             2                 2\n"
     ]
    }
   ],
   "source": [
    "import pandas as pd\n",
    "from sklearn.preprocessing import LabelEncoder\n",
    "\n",
    "# Sample dataset\n",
    "data = {\n",
    "    'Color': ['red', 'green', 'blue', 'green', 'red'],\n",
    "    'Size': ['small', 'medium', 'large', 'medium', 'small'],\n",
    "    'Material': ['wood', 'metal', 'plastic', 'metal', 'wood']\n",
    "}\n",
    "\n",
    "# Creating a DataFrame\n",
    "df = pd.DataFrame(data)\n",
    "\n",
    "# Initialize LabelEncoders for each categorical feature\n",
    "label_encoder_color = LabelEncoder()\n",
    "label_encoder_size = LabelEncoder()\n",
    "label_encoder_material = LabelEncoder()\n",
    "\n",
    "# Fit and transform the categorical data\n",
    "df['Color_encoded'] = label_encoder_color.fit_transform(df['Color'])\n",
    "df['Size_encoded'] = label_encoder_size.fit_transform(df['Size'])\n",
    "df['Material_encoded'] = label_encoder_material.fit_transform(df['Material'])\n",
    "\n",
    "print(df)\n"
   ]
  },
  {
   "cell_type": "code",
   "execution_count": null,
   "id": "412425a3-d318-4d2f-9c3d-b87fe2219c2e",
   "metadata": {},
   "outputs": [],
   "source": []
  },
  {
   "cell_type": "markdown",
   "id": "c7cf618e-1042-4760-bd8f-63e7752022ef",
   "metadata": {},
   "source": [
    "Q5. Calculate the covariance matrix for the following variables in a dataset: Age, Income, and Education\n",
    "level. Interpret the results."
   ]
  },
  {
   "cell_type": "code",
   "execution_count": 2,
   "id": "38e62f70-7771-4876-b6e2-e033599b7fa7",
   "metadata": {},
   "outputs": [
    {
     "name": "stdout",
     "output_type": "stream",
     "text": [
      "Covariance Matrix:\n",
      "[[1.075e+02 1.625e+05 2.250e+01]\n",
      " [1.625e+05 2.500e+08 3.500e+04]\n",
      " [2.250e+01 3.500e+04 5.000e+00]]\n"
     ]
    }
   ],
   "source": [
    "import numpy as np\n",
    "import pandas as pd\n",
    "\n",
    "# Sample dataset\n",
    "data = {\n",
    "    'Age': [25, 30, 45, 50, 35],\n",
    "    'Income': [50000, 60000, 80000, 90000, 70000],\n",
    "    'Education_Level': [12, 14, 16, 18, 15]\n",
    "}\n",
    "\n",
    "# Creating a DataFrame\n",
    "df = pd.DataFrame(data)\n",
    "\n",
    "# Calculating the covariance matrix\n",
    "cov_matrix = np.cov(df, rowvar=False)\n",
    "\n",
    "print(\"Covariance Matrix:\")\n",
    "print(cov_matrix)\n"
   ]
  },
  {
   "cell_type": "code",
   "execution_count": null,
   "id": "39844fbd-337a-46db-924f-4e4f8326d628",
   "metadata": {},
   "outputs": [],
   "source": []
  },
  {
   "cell_type": "markdown",
   "id": "3a2a1307-8e57-4ef9-9b8e-c6ff4b0c02dc",
   "metadata": {},
   "source": [
    "Q6. You are working on a machine learning project with a dataset containing several categorical\n",
    "variables, including \"Gender\" (Male/Female), \"Education Level\" (High School/Bachelor's/Master's/PhD),\n",
    "and \"Employment Status\" (Unemployed/Part-Time/Full-Time). Which encoding method would you use for\n",
    "each variable, and why?"
   ]
  },
  {
   "cell_type": "code",
   "execution_count": 3,
   "id": "e21ce6d5-3f3a-49f9-a661-d0d5320c1aba",
   "metadata": {},
   "outputs": [
    {
     "name": "stdout",
     "output_type": "stream",
     "text": [
      "[1 0 0 1]\n"
     ]
    }
   ],
   "source": [
    "from sklearn.preprocessing import LabelEncoder\n",
    "\n",
    "# Example data\n",
    "gender = ['Male', 'Female', 'Female', 'Male']\n",
    "\n",
    "# Initialize and fit LabelEncoder\n",
    "label_encoder = LabelEncoder()\n",
    "gender_encoded = label_encoder.fit_transform(gender)\n",
    "\n",
    "print(gender_encoded)  \n"
   ]
  },
  {
   "cell_type": "code",
   "execution_count": 4,
   "id": "62c8052c-0aa0-4fad-928c-0a29540a981d",
   "metadata": {},
   "outputs": [
    {
     "name": "stdout",
     "output_type": "stream",
     "text": [
      "[1, 2, 3, 4]\n"
     ]
    }
   ],
   "source": [
    "import pandas as pd\n",
    "\n",
    "# Example data\n",
    "education = ['High School', 'Bachelor\\'s', 'Master\\'s', 'PhD']\n",
    "\n",
    "# Ordinal mapping\n",
    "education_mapping = {'High School': 1, 'Bachelor\\'s': 2, 'Master\\'s': 3, 'PhD': 4}\n",
    "education_encoded = [education_mapping[edu] for edu in education]\n",
    "\n",
    "print(education_encoded)  \n"
   ]
  },
  {
   "cell_type": "code",
   "execution_count": 5,
   "id": "5b08439a-7d6b-4a70-afdc-f47a3e6903f5",
   "metadata": {},
   "outputs": [
    {
     "name": "stdout",
     "output_type": "stream",
     "text": [
      "   Full-Time  Part-Time  Unemployed\n",
      "0          0          0           1\n",
      "1          0          1           0\n",
      "2          1          0           0\n",
      "3          0          1           0\n"
     ]
    }
   ],
   "source": [
    "import pandas as pd\n",
    "\n",
    "# Example data\n",
    "employment_status = ['Unemployed', 'Part-Time', 'Full-Time', 'Part-Time']\n",
    "\n",
    "# Creating DataFrame\n",
    "df = pd.DataFrame({'Employment_Status': employment_status})\n",
    "\n",
    "# One-Hot Encoding\n",
    "employment_encoded = pd.get_dummies(df['Employment_Status'])\n",
    "\n",
    "print(employment_encoded)\n"
   ]
  },
  {
   "cell_type": "code",
   "execution_count": null,
   "id": "468b4eb6-44ae-4f90-83aa-5fd159a6424b",
   "metadata": {},
   "outputs": [],
   "source": []
  },
  {
   "cell_type": "markdown",
   "id": "0414fee2-856a-4b7a-a70d-062d7144222b",
   "metadata": {},
   "source": [
    "Q7. You are analyzing a dataset with two continuous variables, \"Temperature\" and \"Humidity\", and two\n",
    "categorical variables, \"Weather Condition\" (Sunny/Cloudy/Rainy) and \"Wind Direction\" (North/South/\n",
    "East/West). Calculate the covariance between each pair of variables and interpret the results."
   ]
  },
  {
   "cell_type": "code",
   "execution_count": 6,
   "id": "1fb84d24-5004-45af-b106-09278785f5bc",
   "metadata": {},
   "outputs": [
    {
     "name": "stdout",
     "output_type": "stream",
     "text": [
      "Covariance Matrix:\n",
      "                          Temperature  Humidity  Weather Condition_Cloudy  \\\n",
      "Temperature                     31.30    -62.50                     -0.55   \n",
      "Humidity                       -62.50    125.00                      1.25   \n",
      "Weather Condition_Cloudy        -0.55      1.25                      0.30   \n",
      "Weather Condition_Rainy         -1.90      3.75                     -0.10   \n",
      "Weather Condition_Sunny          2.45     -5.00                     -0.20   \n",
      "Wind Direction_East             -1.90      3.75                     -0.10   \n",
      "Wind Direction_North             0.70     -1.25                      0.05   \n",
      "Wind Direction_South            -0.65      1.25                      0.15   \n",
      "Wind Direction_West              1.85     -3.75                     -0.10   \n",
      "\n",
      "                          Weather Condition_Rainy  Weather Condition_Sunny  \\\n",
      "Temperature                                 -1.90                     2.45   \n",
      "Humidity                                     3.75                    -5.00   \n",
      "Weather Condition_Cloudy                    -0.10                    -0.20   \n",
      "Weather Condition_Rainy                      0.20                    -0.10   \n",
      "Weather Condition_Sunny                     -0.10                     0.30   \n",
      "Wind Direction_East                          0.20                    -0.10   \n",
      "Wind Direction_North                        -0.10                     0.05   \n",
      "Wind Direction_South                        -0.05                    -0.10   \n",
      "Wind Direction_West                         -0.05                     0.15   \n",
      "\n",
      "                          Wind Direction_East  Wind Direction_North  \\\n",
      "Temperature                             -1.90                  0.70   \n",
      "Humidity                                 3.75                 -1.25   \n",
      "Weather Condition_Cloudy                -0.10                  0.05   \n",
      "Weather Condition_Rainy                  0.20                 -0.10   \n",
      "Weather Condition_Sunny                 -0.10                  0.05   \n",
      "Wind Direction_East                      0.20                 -0.10   \n",
      "Wind Direction_North                    -0.10                  0.30   \n",
      "Wind Direction_South                    -0.05                 -0.10   \n",
      "Wind Direction_West                     -0.05                 -0.10   \n",
      "\n",
      "                          Wind Direction_South  Wind Direction_West  \n",
      "Temperature                              -0.65                 1.85  \n",
      "Humidity                                  1.25                -3.75  \n",
      "Weather Condition_Cloudy                  0.15                -0.10  \n",
      "Weather Condition_Rainy                  -0.05                -0.05  \n",
      "Weather Condition_Sunny                  -0.10                 0.15  \n",
      "Wind Direction_East                      -0.05                -0.05  \n",
      "Wind Direction_North                     -0.10                -0.10  \n",
      "Wind Direction_South                      0.20                -0.05  \n",
      "Wind Direction_West                      -0.05                 0.20  \n"
     ]
    }
   ],
   "source": [
    "import pandas as pd\n",
    "import numpy as np\n",
    "\n",
    "# Example data\n",
    "data = {\n",
    "    'Temperature': [30, 25, 20, 35, 28],\n",
    "    'Humidity': [70, 80, 90, 60, 75],\n",
    "    'Weather Condition': ['Sunny', 'Cloudy', 'Rainy', 'Sunny', 'Cloudy'],\n",
    "    'Wind Direction': ['North', 'South', 'East', 'West', 'North']\n",
    "}\n",
    "\n",
    "# Creating a DataFrame\n",
    "df = pd.DataFrame(data)\n",
    "\n",
    "# One-Hot Encoding for categorical variables\n",
    "df_encoded = pd.get_dummies(df, columns=['Weather Condition', 'Wind Direction'])\n",
    "\n",
    "# Calculating the covariance matrix\n",
    "cov_matrix = df_encoded.cov()\n",
    "\n",
    "print(\"Covariance Matrix:\")\n",
    "print(cov_matrix)\n"
   ]
  },
  {
   "cell_type": "code",
   "execution_count": null,
   "id": "5237cce0-3f41-4c9a-8141-09589a337ff0",
   "metadata": {},
   "outputs": [],
   "source": []
  }
 ],
 "metadata": {
  "kernelspec": {
   "display_name": "Python 3 (ipykernel)",
   "language": "python",
   "name": "python3"
  },
  "language_info": {
   "codemirror_mode": {
    "name": "ipython",
    "version": 3
   },
   "file_extension": ".py",
   "mimetype": "text/x-python",
   "name": "python",
   "nbconvert_exporter": "python",
   "pygments_lexer": "ipython3",
   "version": "3.10.8"
  }
 },
 "nbformat": 4,
 "nbformat_minor": 5
}
